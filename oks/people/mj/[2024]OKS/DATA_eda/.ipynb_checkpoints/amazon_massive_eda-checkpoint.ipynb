{
 "cells": [
  {
   "cell_type": "code",
   "execution_count": null,
   "metadata": {},
   "outputs": [],
   "source": [
    "from datasets import load_dataset\n",
    "\n",
    "az_massive_train = load_dataset(\"AmazonScience/massive\", \"ko-KR\", split='train')\n",
    "az_massive_valid = load_dataset(\"AmazonScience/massive\", \"ko-KR\", split='validation')\n",
    "az_massive_test = load_dataset(\"AmazonScience/massive\", \"ko-KR\", split='test')"
   ]
  },
  {
   "cell_type": "code",
   "execution_count": null,
   "metadata": {},
   "outputs": [],
   "source": [
    "# dataset count\n",
    "print(\"Train Dataset : \", len(az_massive_train))\n",
    "print(\"Valid Dataset : \", len(az_massive_valid))\n",
    "print(\"Test Dataset  : \", len(az_massive_test))"
   ]
  },
  {
   "cell_type": "code",
   "execution_count": null,
   "metadata": {},
   "outputs": [],
   "source": [
    "print(az_massive_train[0])"
   ]
  },
  {
   "cell_type": "code",
   "execution_count": null,
   "metadata": {},
   "outputs": [],
   "source": [
    "import re\n",
    "\n",
    "pattern = r'\\[(.*?)\\]'\n",
    "\n",
    "_INTENTS = ['datetime_query', 'iot_hue_lightchange', 'transport_ticket', 'takeaway_query', 'qa_stock',\n",
    "            'general_greet', 'recommendation_events', 'music_dislikeness', 'iot_wemo_off', 'cooking_recipe',\n",
    "            'qa_currency', 'transport_traffic', 'general_quirky', 'weather_query', 'audio_volume_up',\n",
    "            'email_addcontact', 'takeaway_order', 'email_querycontact', 'iot_hue_lightup',\n",
    "            'recommendation_locations', 'play_audiobook', 'lists_createoradd', 'news_query',\n",
    "            'alarm_query', 'iot_wemo_on', 'general_joke', 'qa_definition', 'social_query',\n",
    "            'music_settings', 'audio_volume_other', 'calendar_remove', 'iot_hue_lightdim',\n",
    "            'calendar_query', 'email_sendemail', 'iot_cleaning', 'audio_volume_down',\n",
    "            'play_radio', 'cooking_query', 'datetime_convert', 'qa_maths', 'iot_hue_lightoff',\n",
    "            'iot_hue_lighton', 'transport_query', 'music_likeness', 'email_query', 'play_music',\n",
    "            'audio_volume_mute', 'social_post', 'alarm_set', 'qa_factoid', 'calendar_set',\n",
    "            'play_game', 'alarm_remove', 'lists_remove', 'transport_taxi', 'recommendation_movies',\n",
    "            'iot_coffee', 'music_query', 'play_podcasts', 'lists_query']\n",
    "\n",
    "def parse_text(text):\n",
    "    # Define regex pattern to match '[ ]' enclosed text\n",
    "    pattern = re.compile(r'\\[.*?\\]|\\S+')\n",
    "    matches = pattern.findall(text)\n",
    "    return matches\n",
    "\n",
    "def matching_intent(idx_intent):\n",
    "    id_of_intent = idx_intent\n",
    "    intent_str = _INTENTS[id_of_intent]\n",
    "    return intent_str\n",
    "\n",
    "def slot_extract(annot_utt):\n",
    "    result = []\n",
    "    slot_entity_name = []\n",
    "    slot_entity_element = []\n",
    "    \n",
    "    parsed_list = parse_text(annot_utt)\n",
    "    \n",
    "    for word in parsed_list:\n",
    "        if \":\" in word:\n",
    "            word = word[1:-1]\n",
    "            entity_name = word.split(':')[0].strip()\n",
    "            entity_element = word.split(':')[1].strip().split() # ['오후', '아홉시']\n",
    "            for i in entity_element:    \n",
    "                if i == entity_element[0]:\n",
    "                    slot_entity_name.append(\"B-\" + entity_name)\n",
    "                    slot_entity_element.append(i)\n",
    "                else:\n",
    "                    slot_entity_name.append(\"I-\" + entity_name)\n",
    "                    slot_entity_element.append(i)\n",
    "        else:\n",
    "            entity_name = \"O\"\n",
    "            entity_element = word\n",
    "            slot_entity_name.append(entity_name)\n",
    "            slot_entity_element.append(entity_element)\n",
    "    \n",
    "    # print(slot_entity_name)\n",
    "    # print(slot_entity_name)\n",
    "    for name, element in zip(slot_entity_name, slot_entity_element):\n",
    "        result.append({\"text\": element, \"entity\": name})\n",
    "    output_slot = \" \".join(slot_entity_name)\n",
    "    return result, output_slot"
   ]
  },
  {
   "cell_type": "code",
   "execution_count": null,
   "metadata": {},
   "outputs": [],
   "source": [
    "import json \n",
    "import re\n",
    "\n",
    "for idx in az_massive_train:\n",
    "    ## intent\n",
    "    intent_class = matching_intent(idx['intent'])\n",
    "    \n",
    "    ## slot\n",
    "    slot_result, output = slot_extract(idx['annot_utt'])\n",
    "    \n",
    "    temp = {\n",
    "        idx['id']: {\n",
    "            \"text\" : idx['utt'],\n",
    "            \"intent\" : intent_class,\n",
    "            \"slot_out\" : output,\n",
    "            \"slot_mapping\" : slot_result \n",
    "        }\n",
    "    }\n",
    "    \n",
    "    print(temp)\n",
    "    "
   ]
  }
 ],
 "metadata": {
  "kernelspec": {
   "display_name": "oks_mj",
   "language": "python",
   "name": "oks_mj"
  },
  "language_info": {
   "codemirror_mode": {
    "name": "ipython",
    "version": 3
   },
   "file_extension": ".py",
   "mimetype": "text/x-python",
   "name": "python",
   "nbconvert_exporter": "python",
   "pygments_lexer": "ipython3",
   "version": "3.11.9"
  }
 },
 "nbformat": 4,
 "nbformat_minor": 2
}
