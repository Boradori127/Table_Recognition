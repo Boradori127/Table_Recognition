{
 "cells": [
  {
   "cell_type": "code",
   "execution_count": 1,
   "metadata": {},
   "outputs": [],
   "source": [
    "import os\n",
    "import json"
   ]
  },
  {
   "cell_type": "code",
   "execution_count": 2,
   "metadata": {},
   "outputs": [],
   "source": [
    "def data_load(dir_path, file_name):\n",
    "    file_path = os.path.join(dir_path, file_name)\n",
    "    with open(file_path, 'r', encoding='utf-8') as file:\n",
    "        data = json.load(file)\n",
    "    return data\n",
    "\n",
    "def unique_data(data):\n",
    "    list_of_intent = []\n",
    "    list_of_domain = []\n",
    "    list_of_topic = []\n",
    "    \n",
    "    for item in data:\n",
    "        list_of_intent.append(item['intent'])\n",
    "        list_of_domain.append(item['domain'])\n",
    "        list_of_topic.append(item['topic'])\n",
    "    \n",
    "    return list_of_intent, list_of_domain, list_of_topic\n"
   ]
  },
  {
   "cell_type": "code",
   "execution_count": 3,
   "metadata": {},
   "outputs": [],
   "source": [
    "# dir_path = \"/home/oks/oks/data/intent_oks/korean/total_data\"\n",
    "# data_list = ['kor_amazon_mixed_train.json', 'kor_amazon_mixed_val.json', 'kor_amazon_mixed_test.json']\n",
    "\n",
    "# train = data_load(data_list[0])\n",
    "# val = data_load(data_list[1])\n",
    "# test = data_load(data_list[2])"
   ]
  },
  {
   "cell_type": "code",
   "execution_count": 4,
   "metadata": {},
   "outputs": [],
   "source": [
    "# unique_intent = intent_unique(train)\n",
    "# for idx in unique_intent:\n",
    "#     print(idx)"
   ]
  },
  {
   "cell_type": "code",
   "execution_count": 15,
   "metadata": {},
   "outputs": [
    {
     "name": "stdout",
     "output_type": "stream",
     "text": [
      "B_시간 B_시간 O\n",
      "지금 열시 야\n",
      "====================\n",
      "B_음료 B_음료 O O O O\n",
      "매실차 오미자차 이거 체인에서 파는 거예요?\n",
      "====================\n",
      "O B_메뉴 O B_재료 B_재료 O O\n",
      "그러면 치즈와퍼 도 불고기 패티 는 들어가고\n",
      "====================\n",
      "B_메뉴 B_메뉴 O\n",
      "순두부국밥 따로국밥 매워요?\n",
      "====================\n",
      "O O B_수량 O B_메뉴 B_메뉴 B_수량 I_수량 O O\n",
      "그러면 새우버거 세트 하나 하고요 핫크리스피버거 단품 한 개 주세요\n",
      "====================\n",
      "O B_제품 B_제품 O O O O O\n",
      "봄 옷 스키니 같은 거 어떤 거 있는지?\n",
      "====================\n",
      "O O B_제품 B_제품 B_제품 O O\n",
      "이 모양으로 목걸이 팔찌 세트 구입할까 하는데\n",
      "====================\n",
      "B_요일 B_요일 O O\n",
      "토 일 은 쉬고?\n",
      "====================\n",
      "B_대상 B_대상 O O O O O\n",
      "초등학교 4학년 인데 수업 시간이 어떻게 되나요?\n",
      "====================\n",
      "B_요일 B_요일 O O O O O O\n",
      "토요일 일요일 이라도 미리 연락을 드리면 상담이 가능하잖아요?\n",
      "====================\n",
      "B_요일 B_요일 O O O O O\n",
      "토요일 일요일 은 수업이 없는데 보강을 하세요?\n",
      "====================\n",
      "B_요일 B_요일 O O\n",
      "토 일 은 안하시죠?\n",
      "====================\n",
      "B_메뉴 B_메뉴 O\n",
      "카페라테 샷 추가되나요?\n",
      "====================\n",
      "B_메뉴 B_메뉴 O O\n",
      "아메리카노 샷 추가해서 주세요\n",
      "====================\n",
      "B_온도 B_메뉴 B_메뉴 O B_수량 O B_온도 B_메뉴 I_메뉴 B_수량 I_수량 O\n",
      "아이스 아메리카노 샷 추가 하나 랑 아이스 초코 라테 한 잔 주세요\n",
      "====================\n",
      "O B_시간 B_요일 B_시간 B_시간 O O\n",
      "네, 내일 토요일 오전 11시 에 체크아웃이에요\n",
      "====================\n",
      "B_달 B_날짜 B_날짜 I_날짜 O O O\n",
      "사월 이십일 일박 이일 로 예약이 가능한가요?\n",
      "====================\n",
      "B_시간 B_시간 O B_기간 I_기간 O O O\n",
      "내일 아침 조식은 몇 시 까지 이용 가능한가요?\n",
      "====================\n",
      "O O B_대중교통수단 B_시간 B_시간 B_대중교통수단 B_분실물 O O O O O\n",
      "네 저 버스 오늘 아침에 버스에서 지갑 잃어버렸거든요 떨어뜨린 것 같은데 네\n",
      "====================\n",
      "B_결제수단 B_결제수단\n",
      "교통카드를 사용하시나요?\n",
      "====================\n",
      "O B_버스번호 I_버스번호 I_버스번호 B_시간 B_시간 O O O O O O O O O O O O O O B_시간 B_시간 O O\n",
      "저 달서 삼 번 오늘 아침에 그저 상인동 비둘기 아파트에서 출발한 첫차 출발한 차 안 있습니까? 삼 번 그전에 고발하려고 오늘 아침에 안 왔어요\n",
      "====================\n",
      "O O O O O O B_대중교통수단 B_대중교통수단 B_불편유형 O\n",
      "무진 교통에 있는 급행 일 번 버스에서 버스가 위험운전을 했거든요\n",
      "====================\n",
      "O B_위치 I_위치 I_위치 I_위치 O B_버스번호 I_버스번호 O O O O O O O O O O O O O O O O O O O O O O O O O O O O O O O B_시간 B_시간 O O O O O O O O O O\n",
      "저 대구 글로벌 교육센터 앞인데 허구일 서구 일본을 타려고 차를 서기 전에 막 뛰었거든요 뛰면은 시장에 그 인제 그 열려고 그러면은 앞에서 이제 거의 다 왔는데 그냥 못 본척하고 그래 슥 지나가면은 손님이 이쪽으로 날씨도 덥고 네 저 저 십오분 또 기다려야 되는 판에 거기다 손님이 이렇게 뛰면은 보면은 다 태워주거든요\n",
      "====================\n",
      "O O O O B_위치 I_위치 B_시간 I_시간 B_위치 O O B_대중교통수단 O O O O B_위치 O O O O O O O O O O O O B_시간 O B_연령 O B_시간 O O O O O B_연령 O O O O O O O O O O O O O O O O B_연령 B_연령 O O O O O O O B_연령 O O O O B_시간 O O O\n",
      "아 저 가요 이거 칠곡 중학교에서요 세시 삼십분쯤에 시내 쪽으로 가는 버스를 타고 있었거든요 칠곡에서 거기 수성구 거기 만촌동 글로 가는 급행 삼을 타고 있었거든요 근데 저희 두 명이 지금 고등학생이거든요 그 학교에 지금 전화해서 확인할 수도 있고 고등학생인데 저희 두 명이 좀 하여 하여튼 한 명은 덩치가 커 가지고 어른처럼 보여요 그래 가지고 저가 저가 학생이에요. 학생 두 명이요 이 캤는데 아저씨가 뭐 대학생 아니냐고 뭐 돈도 안 주고요 지금 돈도 안 받았거든요\n",
      "====================\n"
     ]
    }
   ],
   "source": [
    "dir_path = \"/home/oks/oks/people/mj/[2024]OKS/DATA_eda/no_use/total_data\"\n",
    "data_path = [\"kor_amazon_mixed_train_with_domain_topic.json\", \"kor_amazon_mixed_val_with_domain_topic.json\", \"kor_amazon_mixed_test_with_domain_topic.json\", ]\n",
    "\n",
    "new = data_load(dir_path=dir_path, file_name=data_path[2])\n",
    "for item in new:\n",
    "    slot_text = item['slot_out'].split(\" \")\n",
    "    text = item['text']\n",
    "    for idx in range(len(slot_text)-1):\n",
    "        i = slot_text[idx]\n",
    "        j = slot_text[idx+1]\n",
    "        if i == j and \"B_\" in i:\n",
    "            print(\" \".join(slot_text))\n",
    "            print(text)\n",
    "            print(\"====================\")\n",
    "            break"
   ]
  },
  {
   "cell_type": "code",
   "execution_count": null,
   "metadata": {},
   "outputs": [],
   "source": []
  },
  {
   "cell_type": "code",
   "execution_count": null,
   "metadata": {},
   "outputs": [],
   "source": []
  }
 ],
 "metadata": {
  "kernelspec": {
   "display_name": "oks_mj",
   "language": "python",
   "name": "oks_mj"
  },
  "language_info": {
   "codemirror_mode": {
    "name": "ipython",
    "version": 3
   },
   "file_extension": ".py",
   "mimetype": "text/x-python",
   "name": "python",
   "nbconvert_exporter": "python",
   "pygments_lexer": "ipython3",
   "version": "3.11.9"
  }
 },
 "nbformat": 4,
 "nbformat_minor": 2
}
